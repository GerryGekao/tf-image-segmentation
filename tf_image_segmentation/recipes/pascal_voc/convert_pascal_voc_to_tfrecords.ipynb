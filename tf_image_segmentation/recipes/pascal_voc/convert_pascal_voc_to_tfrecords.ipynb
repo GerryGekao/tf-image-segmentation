{
 "cells": [
  {
   "cell_type": "code",
   "execution_count": 1,
   "metadata": {
    "collapsed": false
   },
   "outputs": [],
   "source": [
    "import os, sys\n",
    "from PIL import Image\n",
    "\n",
    "sys.path.append(\"/home/vittal/work/segmentation/tf-image-segmentation/\")\n",
    "os.environ[\"CUDA_VISIBLE_DEVICES\"] = '1'\n",
    "\n",
    "pascal_root = '/mnt/disk1/vittal/data/VOCdevkit/VOC2012'\n",
    "pascal_berkeley_root = '/mnt/disk1/vittal/data/benchmark_RELEASE'\n",
    "\n",
    "\n",
    "from tf_image_segmentation.utils.pascal_voc import get_augmented_pascal_image_annotation_filename_pairs\n",
    "from tf_image_segmentation.utils.tf_records import write_image_annotation_pairs_to_tfrecord\n"
   ]
  },
  {
   "cell_type": "code",
   "execution_count": 2,
   "metadata": {
    "collapsed": true
   },
   "outputs": [],
   "source": [
    "# Returns a list of (image, annotation) filename pairs (filename.jpg, filename.png)\n",
    "overall_train_image_annotation_filename_pairs, overall_val_image_annotation_filename_pairs = \\\n",
    "                get_augmented_pascal_image_annotation_filename_pairs(pascal_root=pascal_root,\n",
    "                pascal_berkeley_root=pascal_berkeley_root,\n",
    "                mode=2)"
   ]
  },
  {
   "cell_type": "code",
   "execution_count": 3,
   "metadata": {
    "collapsed": false
   },
   "outputs": [],
   "source": [
    "part_ = True  # Set this to False if there are no part-level annotations\n",
    "if part_ is True:\n",
    "    part_anns_path = '/home/vittal/part_annotations/'\n",
    "    \n",
    "    def append_part_annotations(batch, ann_path):\n",
    "        new_filename_tuple_list = []\n",
    "        for record in batch:\n",
    "            ann_name = record[1].split('/')[-1]  # e.g. 2008_000002.png\n",
    "            ann_path = os.path.join(part_anns_path, ann_name)\n",
    "            new_record = record + (ann_path,)\n",
    "            new_filename_tuple_list.append(new_record)\n",
    "        return new_filename_tuple_list\n",
    "    \n",
    "    overall_train_image_annotation_filename_pairs = append_part_annotations(overall_train_image_annotation_filename_pairs, part_anns_path)\n",
    "    overall_val_image_annotation_filename_pairs = append_part_annotations(overall_val_image_annotation_filename_pairs, part_anns_path)"
   ]
  },
  {
   "cell_type": "code",
   "execution_count": 4,
   "metadata": {
    "collapsed": false
   },
   "outputs": [
    {
     "name": "stdout",
     "output_type": "stream",
     "text": [
      "Processed 0 images...\n",
      "Processed 904 images...\n",
      "Done!\n",
      "Processed 0 images...\n",
      "Processed 1000 images...\n",
      "Processed 2000 images...\n",
      "Processed 3000 images...\n",
      "Processed 4000 images...\n",
      "Processed 5000 images...\n",
      "Processed 6000 images...\n",
      "Processed 7000 images...\n",
      "Processed 8000 images...\n",
      "Processed 9000 images...\n",
      "Processed 10000 images...\n",
      "Processed 11000 images...\n",
      "Processed 11127 images...\n",
      "Done!\n"
     ]
    }
   ],
   "source": [
    "# You can create your own tfrecords file by providing\n",
    "# your list with (image, annotation) filename pairs here\n",
    "write_image_annotation_pairs_to_tfrecord(filename_pairs=overall_val_image_annotation_filename_pairs,\n",
    "                                         tfrecords_filename='pascal_part_augmented_val.tfrecords')\n",
    "\n",
    "write_image_annotation_pairs_to_tfrecord(filename_pairs=overall_train_image_annotation_filename_pairs,\n",
    "                                         tfrecords_filename='pascal_part_augmented_train.tfrecords')"
   ]
  }
 ],
 "metadata": {
  "kernelspec": {
   "display_name": "Python 2",
   "language": "python",
   "name": "python2"
  },
  "language_info": {
   "codemirror_mode": {
    "name": "ipython",
    "version": 2
   },
   "file_extension": ".py",
   "mimetype": "text/x-python",
   "name": "python",
   "nbconvert_exporter": "python",
   "pygments_lexer": "ipython2",
   "version": "2.7.12"
  }
 },
 "nbformat": 4,
 "nbformat_minor": 0
}
